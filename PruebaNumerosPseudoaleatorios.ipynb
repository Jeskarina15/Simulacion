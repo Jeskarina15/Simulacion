{
 "cells": [
  {
   "cell_type": "markdown",
   "metadata": {},
   "source": [
    "**METODO DE CUADRADOS MEDIOS**"
   ]
  },
  {
   "cell_type": "code",
   "execution_count": 1,
   "metadata": {},
   "outputs": [
    {
     "name": "stdout",
     "output_type": "stream",
     "text": [
      "[62, 5, 73, 4, 86, 73, 64, 7, 11, 7, 5, 5, 16, 4, 5, 67, 3, 3, 36, 3, 7, 8, 64, 4, 4, 28, 4, 85, 77, 3, 44, 5, 4, 67, 7, 5, 3, 5, 7, 3, 24, 6, 5, 3, 4, 3, 6, 36, 6, 7, 52, 5, 58, 7, 5, 3, 16, 4, 4, 8, 13, 3, 73, 44, 3, 3, 4, 7, 7, 4, 44, 11, 6, 30, 25, 4, 4, 4, 41, 10, 17, 5, 2, 4, 7, 4, 3, 6, 5, 6, 7, 7, 85, 28, 70, 6, 8, 6, 7, 3]\n"
     ]
    }
   ],
   "source": [
    "\n",
    "from math import floor\n",
    "import plotly.graph_objects as go\n",
    "import random\n",
    "import matplotlib.pyplot as plt\n",
    "import psutil\n",
    "\n",
    "iteraciones=[]\n",
    "for j in range(0,100):\n",
    "    m=str(psutil.cpu_percent(interval=1, percpu=True))\n",
    "    m = filter(lambda char: char not in \"[]?., \", m)\n",
    "    nums = \"\".join(list(m))\n",
    "    memoriaU=nums[0:4]\n",
    "    x0=int(memoriaU)\n",
    "    n=20\n",
    "    xn=pow(x0, 2)\n",
    "    a=len(str(xn))\n",
    "    ui2=[]\n",
    "    rn2=[]\n",
    "    while 3==3: \n",
    "        x02= pow(x0, 2)\n",
    "        longitud= len(str(x02))\n",
    "        if longitud<a:\n",
    "            x02 = str(x02).zfill(a)\n",
    "            longitud= len(str(x02))\n",
    "        cant= str(x02)\n",
    "        aux= len(cant)/2\n",
    "        if aux<4 and aux>0:\n",
    "            d=floor(aux/2)\n",
    "            i=aux-d\n",
    "            ui=cant[int(aux)-int(i):int(aux)+d]\n",
    "        else:\n",
    "            d=int(aux/2)\n",
    "            ui=cant[int(aux)-d:int(aux)+d]\n",
    "        ui2.append(ui)\n",
    "        Rn=int(ui)/10000\n",
    "        if len(rn2)>1 and Rn in rn2:\n",
    "            break\n",
    "        rn2.append(Rn)\n",
    "        x0=int(ui)\n",
    "   \n",
    "    iteraciones.append(len(rn2))\n",
    "\n",
    "print(iteraciones)"
   ]
  },
  {
   "cell_type": "code",
   "execution_count": 7,
   "metadata": {},
   "outputs": [
    {
     "data": {
      "image/png": "[encoded data removed]",
      "text/plain": [
       "<Figure size 432x288 with 1 Axes>"
      ]
     },
     "metadata": {
      "needs_background": "light"
     },
     "output_type": "display_data"
    }
   ],
   "source": [
    "plt.hist(iteraciones, bins=70, edgecolor = 'black',linewidth=1)\n",
    "plt.title(\"iteraciones\")\n",
    "plt.show()"
   ]
  },
  {
   "cell_type": "code",
   "execution_count": 7,
   "metadata": {},
   "outputs": [
    {
     "name": "stdout",
     "output_type": "stream",
     "text": [
      "[1, 7, 12]\n",
      "[2, 8]\n",
      "[3, 9, 11]\n",
      "[4, 10]\n",
      "[5, 13]\n",
      "[6, 14]\n"
     ]
    }
   ],
   "source": [
    "## METODO POR SI NO SE USA WHILE\n",
    "import numpy as np\n",
    "from math import floor\n",
    "import plotly.graph_objects as go\n",
    "import random\n",
    "lista=[1,2,3,4,5,6,7,2,3,4,5,4,2,6,7,8]\n",
    "\n",
    "u, indices = np.unique(lista, return_counts=True)\n",
    "valores= u.tolist()\n",
    "repeticiones= indices.tolist()\n",
    "\n",
    "for k, x in enumerate(repeticiones):\n",
    "    if x==1:\n",
    "        valores.pop(k)\n",
    "        repeticiones.pop(k)\n",
    "for j, z in enumerate(valores):\n",
    "    m=[i for i,z in enumerate(lista) if z==valores[j]]\n",
    "    print(m)\n",
    "    "
   ]
  },
  {
   "cell_type": "code",
   "execution_count": 54,
   "metadata": {},
   "outputs": [
    {
     "name": "stdout",
     "output_type": "stream",
     "text": [
      "[10, 10, 10, 10, 10, 10, 10, 10, 10, 10, 10, 10, 10, 10, 10, 10, 10, 10, 10, 10, 10, 2, 10, 10, 10, 10, 10, 10, 10, 10, 10, 10, 10, 10, 10, 10, 10, 10, 10, 10, 10, 10, 10, 10, 10, 10, 10, 10, 10, 10, 10, 10, 10, 10, 2, 10, 10, 10, 10, 10, 10, 10, 10, 10, 10, 10, 10, 10, 10, 10, 10, 10, 10, 10, 10, 10, 10, 10, 10, 10, 10, 10, 2, 10, 10, 10, 10, 10, 10, 10, 10, 2, 10, 10, 10, 10, 10, 10, 10, 10]\n"
     ]
    }
   ],
   "source": [
    "import plotly.graph_objects as go\n",
    "import random\n",
    "import psutil\n",
    "\n",
    "i=[]\n",
    "for j in range(0,100):\n",
    "    a = 3\n",
    "    b = 5\n",
    "    m = 22\n",
    "    xn1=[]\n",
    "    un1=[]\n",
    "    un=\"--\"\n",
    "    k=str(psutil.cpu_percent(interval=1, percpu=True))\n",
    "    k = filter(lambda char: char not in \"[]?., \", k)\n",
    "    nums = \"\".join(list(k))\n",
    "    memoriaU=nums[3:4]\n",
    "    x0=int(memoriaU)\n",
    "    xn=x0\n",
    "    while 3==3:\n",
    "        xn1.append(xn)\n",
    "        xn=(a*xn+b)%m\n",
    "        un=int(xn)/int(m)\n",
    "        if len(un1)>1 and un in un1:\n",
    "            break\n",
    "        un1.append(un)\n",
    "    i.append(len(un1))\n",
    "print(i)\n"
   ]
  },
  {
   "cell_type": "code",
   "execution_count": 55,
   "metadata": {},
   "outputs": [
    {
     "data": {
      "image/png": "[encoded data removed]",
      "text/plain": [
       "<Figure size 432x288 with 1 Axes>"
      ]
     },
     "metadata": {
      "needs_background": "light"
     },
     "output_type": "display_data"
    }
   ],
   "source": [
    "plt.hist(i, bins=70, edgecolor = 'black',linewidth=1)\n",
    "plt.title(\"iteraciones\")\n",
    "plt.show()"
   ]
  },
  {
   "cell_type": "markdown",
   "metadata": {},
   "source": [
    "**CONCLUSIONES Y RECOMENDACIONES**\n"
   ]
  },
  {
   "cell_type": "markdown",
   "metadata": {},
   "source": [
    "Sin lugar a duda. la capacidad de diseñar algoritmos que producen números aleatorios con características tales que pueden representar adecuadamente verdaderos números aleatorios, es lo que permite resolver problemas complejos con el uso de la simulación. Sin embargo. dada la aproximación es realmente complejo modelar con precisión las características de la distribución uniforme mediante un buen generador. Esto quiere decir que algunas propiedades no se cumplirán las cuales pueden no influir mucho en los resultados de determinado estudio. dando lugar a que el criterio de aceptaci6n de un generador dado debe basarse en la aplicaci6n que se vaya a dar. Es precisamente responsabilidad\n",
    "\n",
    "Recomendaciones\n",
    "Este método de centros al cuadrado lastimosamente tiene una tendencia a degenerar rápidamente hacia cero, donde permanecerá por siempre, por lo que se recomienda en su preferencia siempre usar otro tipo de método para la generación de números aleatorios, ya sea generadores congruenciales lineales o cualquier otro."
   ]
  }
 ],
 "metadata": {
  "kernelspec": {
   "display_name": "Python 3",
   "language": "python",
   "name": "python3"
  },
  "language_info": {
   "codemirror_mode": {
    "name": "ipython",
    "version": 3
   },
   "file_extension": ".py",
   "mimetype": "text/x-python",
   "name": "python",
   "nbconvert_exporter": "python",
   "pygments_lexer": "ipython3",
   "version": "3.7.3"
  }
 },
 "nbformat": 4,
 "nbformat_minor": 2
}
