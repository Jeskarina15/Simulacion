{
 "cells": [
  {
   "cell_type": "markdown",
   "metadata": {},
   "source": [
    "**SIMULACION**\n",
    "\n",
    "Generar 2 números pseudoaleatorios (dados), sumar estos números y generar una tabla con la suma de los mismos, su frecuencia y probabilidad. Para ello se debe generar 100, 1000 y 10000 eventos de lanzamiento de dados"
   ]
  },
  {
   "cell_type": "code",
   "execution_count": 5,
   "metadata": {},
   "outputs": [
    {
     "name": "stdout",
     "output_type": "stream",
     "text": [
      "suma  repeticiones  probabilidad\n",
      "2     5            0.05\n",
      "3     7            0.07\n",
      "4     5            0.05\n",
      "5     13            0.13\n",
      "6     13            0.13\n",
      "7     17            0.17\n",
      "8     17            0.17\n",
      "9     7            0.07\n",
      "10     10            0.1\n",
      "11     6            0.06\n"
     ]
    }
   ],
   "source": [
    "\n",
    "import random \n",
    "valor = 0\n",
    "lista =[ ]\n",
    "for j in range(0,100):\n",
    "    for i in range(0,2):\n",
    "        v=random.randint(1,6)\n",
    "        valor=valor+v\n",
    "    lista.append(valor)\n",
    "    valor=0\n",
    "suma=[]\n",
    "repeticiones=[]\n",
    "for x in set(lista):\n",
    "    repeticiones.append(lista.count(x))\n",
    "    suma.append(x)\n",
    "\n",
    "    probabilidad=[]\n",
    "for y in repeticiones:\n",
    "    probabilidad.append(y/100)\n",
    "\n",
    "print(\"suma  repeticiones  probabilidad\")\n",
    "for x in range(0,len(probabilidad)):\n",
    "    print(str(suma[x])+\"     \"+str(repeticiones[x])+\"            \"+str(probabilidad[x]))"
   ]
  },
  {
   "cell_type": "code",
   "execution_count": 3,
   "metadata": {},
   "outputs": [
    {
     "name": "stdout",
     "output_type": "stream",
     "text": [
      "suma  repeticiones  probabilidad\n",
      "2     36            0.036\n",
      "3     39            0.039\n",
      "4     98            0.098\n",
      "5     95            0.095\n",
      "6     141            0.141\n",
      "7     188            0.188\n",
      "8     133            0.133\n",
      "9     108            0.108\n",
      "10     91            0.091\n",
      "11     50            0.05\n",
      "12     21            0.021\n"
     ]
    }
   ],
   "source": [
    "import random \n",
    "valor = 0\n",
    "lista =[ ]\n",
    "for j in range(0,1000):\n",
    "    for i in range(0,2):\n",
    "        v=random.randint(1,6)\n",
    "        valor=valor+v\n",
    "    lista.append(valor)\n",
    "    valor=0\n",
    "suma=[]\n",
    "repeticiones=[]\n",
    "for x in set(lista):\n",
    "    repeticiones.append(lista.count(x))\n",
    "    suma.append(x)\n",
    "\n",
    "    probabilidad=[]\n",
    "for y in repeticiones:\n",
    "    probabilidad.append(y/1000)\n",
    "\n",
    "print(\"suma  repeticiones  probabilidad\")\n",
    "for x in range(0,len(probabilidad)):\n",
    "    print(str(suma[x])+\"     \"+str(repeticiones[x])+\"            \"+str(probabilidad[x]))"
   ]
  },
  {
   "cell_type": "code",
   "execution_count": 4,
   "metadata": {},
   "outputs": [
    {
     "name": "stdout",
     "output_type": "stream",
     "text": [
      "suma  repeticiones  probabilidad\n",
      "2     254            0.0254\n",
      "3     567            0.0567\n",
      "4     820            0.082\n",
      "5     1135            0.1135\n",
      "6     1400            0.14\n",
      "7     1674            0.1674\n",
      "8     1304            0.1304\n",
      "9     1188            0.1188\n",
      "10     838            0.0838\n",
      "11     550            0.055\n",
      "12     270            0.027\n"
     ]
    }
   ],
   "source": [
    "import random \n",
    "valor = 0\n",
    "lista =[ ]\n",
    "for j in range(0,10000):\n",
    "    for i in range(0,2):\n",
    "        v=random.randint(1,6)\n",
    "        valor=valor+v\n",
    "    lista.append(valor)\n",
    "    valor=0\n",
    "suma=[]\n",
    "repeticiones=[]\n",
    "for x in set(lista):\n",
    "    repeticiones.append(lista.count(x))\n",
    "    suma.append(x)\n",
    "\n",
    "    probabilidad=[]\n",
    "for y in repeticiones:\n",
    "    probabilidad.append(y/10000)\n",
    "\n",
    "print(\"suma  repeticiones  probabilidad\")\n",
    "for x in range(0,len(probabilidad)):\n",
    "    print(str(suma[x])+\"     \"+str(repeticiones[x])+\"            \"+str(probabilidad[x]))"
   ]
  },
  {
   "cell_type": "markdown",
   "metadata": {},
   "source": [
    "**NUMPY**"
   ]
  },
  {
   "cell_type": "code",
   "execution_count": 8,
   "metadata": {},
   "outputs": [
    {
     "name": "stdout",
     "output_type": "stream",
     "text": [
      "suma  repeticiones  probabilidad\n",
      "2     410            0.041\n",
      "3     769            0.0769\n",
      "4     1197            0.1197\n",
      "5     1690            0.169\n",
      "6     1978            0.1978\n",
      "7     1579            0.1579\n",
      "8     1192            0.1192\n",
      "9     760            0.076\n",
      "10     425            0.0425\n"
     ]
    }
   ],
   "source": [
    "import numpy as n\n",
    "valor = 0\n",
    "lista =[ ]\n",
    "for j in range(0,10000):\n",
    "    for i in range(0,2):\n",
    "        v=n.random.randint(1,6)\n",
    "        valor=valor+v\n",
    "    lista.append(valor)\n",
    "    valor=0\n",
    "suma=[]\n",
    "repeticiones=[]\n",
    "for x in set(lista):\n",
    "    repeticiones.append(lista.count(x))\n",
    "    suma.append(x)\n",
    "\n",
    "    probabilidad=[]\n",
    "for y in repeticiones:\n",
    "    probabilidad.append(y/10000)\n",
    "\n",
    "print(\"suma  repeticiones  probabilidad\")\n",
    "for x in range(0,len(probabilidad)):\n",
    "    print(str(suma[x])+\"     \"+str(repeticiones[x])+\"            \"+str(probabilidad[x]))"
   ]
  },
  {
   "cell_type": "code",
   "execution_count": 7,
   "metadata": {},
   "outputs": [
    {
     "name": "stdout",
     "output_type": "stream",
     "text": [
      "suma  repeticiones  probabilidad\n",
      "2     44            0.044\n",
      "3     100            0.1\n",
      "4     117            0.117\n",
      "5     198            0.198\n",
      "6     180            0.18\n",
      "7     156            0.156\n",
      "8     104            0.104\n",
      "9     51            0.051\n",
      "10     50            0.05\n"
     ]
    }
   ],
   "source": [
    "import numpy as n\n",
    "valor = 0\n",
    "lista =[ ]\n",
    "for j in range(0,1000):\n",
    "    for i in range(0,2):\n",
    "        v=n.random.randint(1,6)\n",
    "        valor=valor+v\n",
    "    lista.append(valor)\n",
    "    valor=0\n",
    "suma=[]\n",
    "repeticiones=[]\n",
    "for x in set(lista):\n",
    "    repeticiones.append(lista.count(x))\n",
    "    suma.append(x)\n",
    "\n",
    "    probabilidad=[]\n",
    "for y in repeticiones:\n",
    "    probabilidad.append(y/1000)\n",
    "\n",
    "print(\"suma  repeticiones  probabilidad\")\n",
    "for x in range(0,len(probabilidad)):\n",
    "    print(str(suma[x])+\"     \"+str(repeticiones[x])+\"            \"+str(probabilidad[x]))"
   ]
  },
  {
   "cell_type": "code",
   "execution_count": 6,
   "metadata": {},
   "outputs": [
    {
     "name": "stdout",
     "output_type": "stream",
     "text": [
      "suma  repeticiones  probabilidad\n",
      "2     6            0.06\n",
      "3     5            0.05\n",
      "4     14            0.14\n",
      "5     11            0.11\n",
      "6     22            0.22\n",
      "7     18            0.18\n",
      "8     16            0.16\n",
      "9     3            0.03\n",
      "10     5            0.05\n"
     ]
    }
   ],
   "source": [
    "import numpy as n\n",
    "valor = 0\n",
    "lista =[ ]\n",
    "for j in range(0,100):\n",
    "    for i in range(0,2):\n",
    "        v=n.random.randint(1,6)\n",
    "        valor=valor+v\n",
    "    lista.append(valor)\n",
    "    valor=0\n",
    "suma=[]\n",
    "repeticiones=[]\n",
    "for x in set(lista):\n",
    "    repeticiones.append(lista.count(x))\n",
    "    suma.append(x)\n",
    "\n",
    "    probabilidad=[]\n",
    "for y in repeticiones:\n",
    "    probabilidad.append(y/100)\n",
    "\n",
    "print(\"suma  repeticiones  probabilidad\")\n",
    "for x in range(0,len(probabilidad)):\n",
    "    print(str(suma[x])+\"     \"+str(repeticiones[x])+\"            \"+str(probabilidad[x]))"
   ]
  },
  {
   "cell_type": "markdown",
   "metadata": {},
   "source": [
    "**Conclusiones**\n",
    "\n",
    "100 eventos: 7 y 8 repeticiones 17 probabilidad 0.17\n",
    "1000 eventos: 7 repeticiones 188 probabilidad 0.18\n",
    "10000 eventos: 7 repeticiones 1674 probabilidad 0.16\n",
    "    \n",
    "los números con más probabilidad de salir serian el 7 y 8 \n"
   ]
  }
 ],
 "metadata": {
  "kernelspec": {
   "display_name": "Python 3",
   "language": "python",
   "name": "python3"
  },
  "language_info": {
   "codemirror_mode": {
    "name": "ipython",
    "version": 3
   },
   "file_extension": ".py",
   "mimetype": "text/x-python",
   "name": "python",
   "nbconvert_exporter": "python",
   "pygments_lexer": "ipython3",
   "version": "3.7.3"
  }
 },
 "nbformat": 4,
 "nbformat_minor": 2
}
