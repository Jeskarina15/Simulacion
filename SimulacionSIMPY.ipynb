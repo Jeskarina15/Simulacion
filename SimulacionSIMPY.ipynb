{
 "cells": [
  {
   "cell_type": "markdown",
   "metadata": {},
   "source": [
    "**Práctica Sympy 2**\n",
    "\n",
    "En base a la simulacion, generar una simulacion lo mas apegado a la realidad del Covid-19, para ello obtener informacion del numero de consultorios y camas disponibles en un hospital del Ecuador. Parametrizar la simulacion para ingresar el numero de pacientes, el numero de consultorios y el numero de camas y algun otro parametro que considere oportuno.\n",
    "\n",
    "Finalmente generar las siguientes metricas :\n",
    "\n",
    "Tiempo de espera promedio para cada sala.\n",
    "Tiempo promedio total que requiere un paciente para ser atendido desde cero.\n",
    "Cuántos pacientes se atendieron.\n",
    "Cuántos pacientes se quedaron sin atender y fallecieron."
   ]
  },
  {
   "cell_type": "code",
   "execution_count": 4,
   "metadata": {},
   "outputs": [
    {
     "name": "stdout",
     "output_type": "stream",
     "text": [
      "Ingreso del paciente con Covid-19 0 a la hora 0.00.\n",
      "El paciente no tiene COVID-19: 0 estado verde\n",
      "Ingreso del paciente con Covid-19 1 a la hora 2.00.\n",
      "Ingreso del paciente con Covid-19 2 a la hora 2.00.\n",
      "Ingreso del paciente con Covid-19 3 a la hora 3.00.\n",
      "Ingreso del paciente con Covid-19 4 a la hora 4.00.\n",
      "El paciente no tiene COVID-19: 4 estado verde\n",
      "Ingreso del paciente con Covid-19 5 a la hora 5.00.\n",
      "El paciente no tiene COVID-19: 5 estado verde\n",
      "Ingreso del paciente con Covid-19 6 a la hora 5.00.\n",
      "Ingreso del paciente con Covid-19 7 a la hora 7.00.\n",
      "Ingreso del paciente con Covid-19 8 a la hora 11.00.\n",
      "Ingreso del paciente con Covid-19 9 a la hora 15.00.\n",
      "El paciente no tiene COVID-19: 9 estado verde\n",
      "El paciente se termino de atender:  1  tiempo de salida:  18\n",
      "Ingreso del paciente con Covid-19 10 a la hora 18.00.\n",
      "Paciente [1] a finalizado la consulta a las 18.00.\n",
      "Al paciente:  1  se le asigna una CAMA \n",
      "El paciente 1 espero 16 dias y fallece\n",
      "El paciente se termino de atender:  3  tiempo de salida:  19\n",
      "Paciente [3] a finalizado la consulta a las 19.00.\n",
      "Al paciente:  3  se le asigna una CAMA \n",
      "El paciente se termino de atender:  2  tiempo de salida:  21\n",
      "El paciente se termino de atender:  6  tiempo de salida:  21\n",
      "Paciente [2] a finalizado la consulta a las 21.00.\n",
      "Paciente [6] a finalizado la consulta a las 21.00.\n",
      "Al paciente:  2  se le asigna una CAMA \n",
      "El paciente 2 espero 19 dias y fallece\n",
      "Al paciente:  6  se le asigna una CAMA \n",
      "El paciente 6 espero 16 dias y fallece\n",
      "Ingreso del paciente con Covid-19 11 a la hora 22.00.\n",
      "El paciente no tiene COVID-19: 11 estado verde\n",
      "El paciente se termino de atender:  7  tiempo de salida:  23\n",
      "Paciente [7] a finalizado la consulta a las 23.00.\n",
      "Al paciente:  7  se le asigna una CAMA \n",
      "El paciente 7 espero 16 dias y fallece\n",
      "Ingreso del paciente con Covid-19 12 a la hora 26.00.\n",
      "El paciente no tiene COVID-19: 12 estado verde\n",
      "Ingreso del paciente con Covid-19 13 a la hora 28.00.\n",
      "Ingreso del paciente con Covid-19 14 a la hora 28.00.\n",
      "El paciente no tiene COVID-19: 14 estado verde\n",
      "Ingreso del paciente con Covid-19 15 a la hora 28.00.\n",
      "Ingreso del paciente con Covid-19 16 a la hora 28.00.\n",
      "El paciente se termino de atender:  8  tiempo de salida:  29\n",
      "Paciente [8] a finalizado la consulta a las 29.00.\n",
      "Al paciente:  8  se le asigna una CAMA \n",
      "Tiempo promedio\n",
      "4.5\n",
      "Personas fallecidas: \n",
      "{19: 1, 29: 1}\n",
      "Personas atendidas: \n",
      "{2: 2, 3: 3, 5: 6, 7: 7, 11: 8, 18: 10, 28: 16}\n",
      "Tiempo de atencion: \n",
      "{1: 18, 3: 19, 2: 21, 6: 21, 7: 23, 8: 29}\n"
     ]
    }
   ],
   "source": [
    "import simpy\n",
    "import random\n",
    "import matplotlib.pyplot as pp\n",
    "#Maximo de persona en un hospital\n",
    "MAX_PERSONAS=200\n",
    "#Numero de camas= 190 c\n",
    "NUM_CAMAS=190\n",
    "#Tiempo de consulta = 17min\n",
    "TIEMPO_CONSULTA=17\n",
    "#Dias de simulacion = 30\n",
    "DIAS_SIMULACION=30\n",
    "#intervalo de llegada de los pacientes 10\n",
    "INTERVALO_LLEGADA=3\n",
    "#Cantidad de medicos=93\n",
    "CANTIDAD_MEDICOS=93\n",
    "\n",
    "tiempo={}\n",
    "tiempo_atencion={}\n",
    "persona_fallecidas={}\n",
    "personas_atendidas={}\n",
    "class AtencionPacientes(object):\n",
    "    def __init__(self, env, num_cama):\n",
    "        self.env = env\n",
    "        self.num_cama = num_cama\n",
    "        self.camas = simpy.Resource(env, num_cama)\n",
    "        \n",
    "    def atender_paciente(self, paciente):\n",
    "        personas_atendidas[env.now]=paciente\n",
    "        yield self.env.timeout(random.randint(TIEMPO_CONSULTA-2, TIEMPO_CONSULTA+2))\n",
    "        print(\"El paciente se termino de atender: \", paciente, \" tiempo de salida: \", self.env.now)\n",
    "        tiempo_atencion[paciente]=env.now\n",
    "        \n",
    "    \n",
    "def Ingreso_Paciente(env, paciente, consulta):\n",
    "    llegada= env.now\n",
    "    #La variable riesgo representa los estados de ingreso de los pacientes\n",
    "    #ROJO= Signos y sintomas grave(60-100)\n",
    "    #AMARILLO=Signos estables con factores de riesgo(30-60)\n",
    "    #VERDE= Paciente estable, sin factor de riesgo(1-30)\n",
    "    riesgo= random.randint(1,100)\n",
    "    print('Ingreso del paciente con Covid-19 %s a la hora %.2f.' % (paciente, env.now))\n",
    "    if(riesgo<60):\n",
    "        with consulta.camas.request() as cama:\n",
    "            yield env.process(consulta.atender_paciente(paciente))\n",
    "            print('Paciente [%s] a finalizado la consulta a las %.2f.' % (paciente, env.now))\n",
    "            tiempo[paciente]=env.now\n",
    "            dias_esperando = random.randint(1,5) #Numero de dias maximo que puede esperar sin ser asignado a una cama dentro del hospital\n",
    "            requerimiento = yield cama | env.timeout(dias_esperando) #Asignar un tiempo de espera\n",
    "            wait = env.now - llegada\n",
    "            if cama in requerimiento:\n",
    "                print(\"Al paciente: \", paciente, \" se le asigna una CAMA \")\n",
    "                riesgo = random.randint(1,100)\n",
    "                if(riesgo>60):\n",
    "                    persona_fallecidas[env.now]=persona_fallecidas[env.now]+ 1 if env.now in persona_fallecidas else  1\n",
    "                else:\n",
    "                    print(\"El paciente\",paciente,\"espero\", wait, \"dias y fallece\")\n",
    "    else:\n",
    "        print(\"El paciente no tiene COVID-19:\",paciente,\"estado verde\")\n",
    "def ejecutar(env, intervalo_llegada, max_personas):\n",
    "    consulta=AtencionPacientes(env, NUM_CAMAS)\n",
    "    for i in range(max_personas):\n",
    "        env.process(Ingreso_Paciente(env,i, consulta))\n",
    "        while True:\n",
    "            yield env.timeout(random.randint(intervalo_llegada-3, intervalo_llegada+3))\n",
    "            i+=1\n",
    "            env.process(Ingreso_Paciente(env,i, consulta))\n",
    "                \n",
    "env=simpy.Environment()\n",
    "env.process(ejecutar(env,INTERVALO_LLEGADA,MAX_PERSONAS))\n",
    "\n",
    "env.run(until =DIAS_SIMULACION)\n",
    "s=0\n",
    "st=0\n",
    "print(\"Tiempo promedio\")\n",
    "for i in tiempo:\n",
    "    s =i\n",
    "    st=st+s\n",
    "tpromedio=st/len(tiempo)\n",
    "print(tpromedio)\n",
    "print(\"Personas fallecidas: \")\n",
    "print(persona_fallecidas)\n",
    "print(\"Personas atendidas: \")\n",
    "print(personas_atendidas)\n",
    "print(\"Tiempo de atencion: \")\n",
    "print(tiempo_atencion)"
   ]
  },
  {
   "cell_type": "code",
   "execution_count": 5,
   "metadata": {},
   "outputs": [
    {
     "data": {
      "image/png": "[encoded data removed]",
      "text/plain": [
       "<Figure size 432x288 with 1 Axes>"
      ]
     },
     "metadata": {
      "needs_background": "light"
     },
     "output_type": "display_data"
    }
   ],
   "source": [
    "datos=sorted(tiempo_atencion.items())\n",
    "x, y =zip(*datos)\n",
    "pp.plot(x,y,linewidth=2,color='red')\n",
    "pp.scatter(x,y,color='blue')\n",
    "pp.grid(True)\n",
    "pp.show()"
   ]
  },
  {
   "cell_type": "code",
   "execution_count": 7,
   "metadata": {},
   "outputs": [
    {
     "data": {
      "image/png": "[encoded data removed]",
      "text/plain": [
       "<Figure size 432x288 with 1 Axes>"
      ]
     },
     "metadata": {
      "needs_background": "light"
     },
     "output_type": "display_data"
    }
   ],
   "source": [
    "datos=sorted(personas_atendidas.items())\n",
    "x, y =zip(*datos)\n",
    "pp.plot(x,y,linewidth=2,color='red')\n",
    "pp.scatter(x,y,color='blue')\n",
    "pp.grid(True)\n",
    "pp.show()"
   ]
  }
 ],
 "metadata": {
  "kernelspec": {
   "display_name": "Python 3",
   "language": "python",
   "name": "python3"
  },
  "language_info": {
   "codemirror_mode": {
    "name": "ipython",
    "version": 3
   },
   "file_extension": ".py",
   "mimetype": "text/x-python",
   "name": "python",
   "nbconvert_exporter": "python",
   "pygments_lexer": "ipython3",
   "version": "3.7.3"
  }
 },
 "nbformat": 4,
 "nbformat_minor": 2
}
